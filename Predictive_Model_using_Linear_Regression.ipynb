{
  "nbformat": 4,
  "nbformat_minor": 0,
  "metadata": {
    "colab": {
      "name": "Predictive Model using Linear Regression.ipynb",
      "provenance": [],
      "collapsed_sections": []
    },
    "kernelspec": {
      "name": "python3",
      "display_name": "Python 3"
    },
    "language_info": {
      "name": "python"
    }
  },
  "cells": [
    {
      "cell_type": "markdown",
      "source": [
        "## **Predictive Model using Linear Regression**"
      ],
      "metadata": {
        "id": "5Zhagx5p5PvF"
      }
    },
    {
      "cell_type": "markdown",
      "source": [
        "## Project Objective:"
      ],
      "metadata": {
        "id": "404kcAUv6f-k"
      }
    },
    {
      "cell_type": "markdown",
      "source": [
        "To determine if investing in website or online app have more positive impact to the business' profitability."
      ],
      "metadata": {
        "id": "cNTs8s9c6cjJ"
      }
    },
    {
      "cell_type": "markdown",
      "source": [
        "## **Process:**"
      ],
      "metadata": {
        "id": "ZyvmwwAl6luF"
      }
    },
    {
      "cell_type": "markdown",
      "source": [
        "This interesting project will start off with basic descriptive analysis, followed by data cleansing, and scaling the data to prepare for machine learning model from sklearn library. The model will be visualized and evaluated using metrics, such as MAE, MSE, and RMSE."
      ],
      "metadata": {
        "id": "XcQhr7ff64iC"
      }
    },
    {
      "cell_type": "markdown",
      "source": [
        "# Positive impact:"
      ],
      "metadata": {
        "id": "naXS7lw58bOb"
      }
    },
    {
      "cell_type": "markdown",
      "source": [
        "The business will gain actionable insights to their question, if investing more in the website or app will have significant financial impact. Having a deeper understanding of the data using advanced data analysis can help businesses make the best available decision and deploy an effective business strategies."
      ],
      "metadata": {
        "id": "6fbJQ9eQ8gOr"
      }
    },
    {
      "cell_type": "markdown",
      "source": [
        "# About Dataset"
      ],
      "metadata": {
        "id": "DeloPj5HCKGb"
      }
    },
    {
      "cell_type": "markdown",
      "source": [
        "Dataset used: '/content/Ecommerce Customers.csv'\n",
        "\n",
        "This file has customer email, avg. seesion time with stylist, Time spent on the app and website, Length of Menbeship"
      ],
      "metadata": {
        "id": "oh_AuKVECiwF"
      }
    },
    {
      "cell_type": "markdown",
      "source": [
        "# Importing Libraries"
      ],
      "metadata": {
        "id": "UdRLNaD7AuQy"
      }
    },
    {
      "cell_type": "code",
      "execution_count": null,
      "metadata": {
        "id": "HDCVzqXs6Ghu"
      },
      "outputs": [],
      "source": [
        "import numpy as np\n",
        "import pandas as pd\n",
        "from sklearn.model_selection import train_test_split\n",
        "from sklearn.linear_model import LinearRegression\n",
        "from sklearn.metrics import mean_absolute_error\n",
        "from sklearn.metrics import accuracy_score\n",
        "import matplotlib.pyplot as plt\n",
        "from sklearn import metrics\n",
        "from sklearn.preprocessing import MinMaxScaler\n",
        "import seaborn as sns"
      ]
    },
    {
      "cell_type": "code",
      "source": [
        "df = pd.read_csv(r'/content/Ecommerce Customers.csv')"
      ],
      "metadata": {
        "id": "MjWFnSzU8mzK"
      },
      "execution_count": null,
      "outputs": []
    },
    {
      "cell_type": "code",
      "source": [
        ""
      ],
      "metadata": {
        "id": "mp30J_Vs1RCw"
      },
      "execution_count": null,
      "outputs": []
    },
    {
      "cell_type": "code",
      "source": [
        "df.head()"
      ],
      "metadata": {
        "colab": {
          "base_uri": "https://localhost:8080/",
          "height": 389
        },
        "id": "AIXX42_T8uEN",
        "outputId": "d8cededb-d7b2-4765-9fdd-b474367764e1"
      },
      "execution_count": null,
      "outputs": [
        {
          "output_type": "execute_result",
          "data": {
            "text/html": [
              "\n",
              "  <div id=\"df-0e622fcb-f13d-4952-9264-9f879bd6ecda\">\n",
              "    <div class=\"colab-df-container\">\n",
              "      <div>\n",
              "<style scoped>\n",
              "    .dataframe tbody tr th:only-of-type {\n",
              "        vertical-align: middle;\n",
              "    }\n",
              "\n",
              "    .dataframe tbody tr th {\n",
              "        vertical-align: top;\n",
              "    }\n",
              "\n",
              "    .dataframe thead th {\n",
              "        text-align: right;\n",
              "    }\n",
              "</style>\n",
              "<table border=\"1\" class=\"dataframe\">\n",
              "  <thead>\n",
              "    <tr style=\"text-align: right;\">\n",
              "      <th></th>\n",
              "      <th>Email</th>\n",
              "      <th>Address</th>\n",
              "      <th>Avatar</th>\n",
              "      <th>Avg. Session Length</th>\n",
              "      <th>Time on App</th>\n",
              "      <th>Time on Website</th>\n",
              "      <th>Length of Membership</th>\n",
              "      <th>Yearly Amount Spent</th>\n",
              "    </tr>\n",
              "  </thead>\n",
              "  <tbody>\n",
              "    <tr>\n",
              "      <th>0</th>\n",
              "      <td>mstephenson@fernandez.com</td>\n",
              "      <td>835 Frank Tunnel\\nWrightmouth, MI 82180-9605</td>\n",
              "      <td>Violet</td>\n",
              "      <td>34.497268</td>\n",
              "      <td>12.655651</td>\n",
              "      <td>39.577668</td>\n",
              "      <td>4.082621</td>\n",
              "      <td>587.951054</td>\n",
              "    </tr>\n",
              "    <tr>\n",
              "      <th>1</th>\n",
              "      <td>hduke@hotmail.com</td>\n",
              "      <td>4547 Archer Common\\nDiazchester, CA 06566-8576</td>\n",
              "      <td>DarkGreen</td>\n",
              "      <td>31.926272</td>\n",
              "      <td>11.109461</td>\n",
              "      <td>37.268959</td>\n",
              "      <td>2.664034</td>\n",
              "      <td>392.204933</td>\n",
              "    </tr>\n",
              "    <tr>\n",
              "      <th>2</th>\n",
              "      <td>pallen@yahoo.com</td>\n",
              "      <td>24645 Valerie Unions Suite 582\\nCobbborough, D...</td>\n",
              "      <td>Bisque</td>\n",
              "      <td>33.000915</td>\n",
              "      <td>11.330278</td>\n",
              "      <td>37.110597</td>\n",
              "      <td>4.104543</td>\n",
              "      <td>487.547505</td>\n",
              "    </tr>\n",
              "    <tr>\n",
              "      <th>3</th>\n",
              "      <td>riverarebecca@gmail.com</td>\n",
              "      <td>1414 David Throughway\\nPort Jason, OH 22070-1220</td>\n",
              "      <td>SaddleBrown</td>\n",
              "      <td>34.305557</td>\n",
              "      <td>13.717514</td>\n",
              "      <td>36.721283</td>\n",
              "      <td>3.120179</td>\n",
              "      <td>581.852344</td>\n",
              "    </tr>\n",
              "    <tr>\n",
              "      <th>4</th>\n",
              "      <td>mstephens@davidson-herman.com</td>\n",
              "      <td>14023 Rodriguez Passage\\nPort Jacobville, PR 3...</td>\n",
              "      <td>MediumAquaMarine</td>\n",
              "      <td>33.330673</td>\n",
              "      <td>12.795189</td>\n",
              "      <td>37.536653</td>\n",
              "      <td>4.446308</td>\n",
              "      <td>599.406092</td>\n",
              "    </tr>\n",
              "  </tbody>\n",
              "</table>\n",
              "</div>\n",
              "      <button class=\"colab-df-convert\" onclick=\"convertToInteractive('df-0e622fcb-f13d-4952-9264-9f879bd6ecda')\"\n",
              "              title=\"Convert this dataframe to an interactive table.\"\n",
              "              style=\"display:none;\">\n",
              "        \n",
              "  <svg xmlns=\"http://www.w3.org/2000/svg\" height=\"24px\"viewBox=\"0 0 24 24\"\n",
              "       width=\"24px\">\n",
              "    <path d=\"M0 0h24v24H0V0z\" fill=\"none\"/>\n",
              "    <path d=\"M18.56 5.44l.94 2.06.94-2.06 2.06-.94-2.06-.94-.94-2.06-.94 2.06-2.06.94zm-11 1L8.5 8.5l.94-2.06 2.06-.94-2.06-.94L8.5 2.5l-.94 2.06-2.06.94zm10 10l.94 2.06.94-2.06 2.06-.94-2.06-.94-.94-2.06-.94 2.06-2.06.94z\"/><path d=\"M17.41 7.96l-1.37-1.37c-.4-.4-.92-.59-1.43-.59-.52 0-1.04.2-1.43.59L10.3 9.45l-7.72 7.72c-.78.78-.78 2.05 0 2.83L4 21.41c.39.39.9.59 1.41.59.51 0 1.02-.2 1.41-.59l7.78-7.78 2.81-2.81c.8-.78.8-2.07 0-2.86zM5.41 20L4 18.59l7.72-7.72 1.47 1.35L5.41 20z\"/>\n",
              "  </svg>\n",
              "      </button>\n",
              "      \n",
              "  <style>\n",
              "    .colab-df-container {\n",
              "      display:flex;\n",
              "      flex-wrap:wrap;\n",
              "      gap: 12px;\n",
              "    }\n",
              "\n",
              "    .colab-df-convert {\n",
              "      background-color: #E8F0FE;\n",
              "      border: none;\n",
              "      border-radius: 50%;\n",
              "      cursor: pointer;\n",
              "      display: none;\n",
              "      fill: #1967D2;\n",
              "      height: 32px;\n",
              "      padding: 0 0 0 0;\n",
              "      width: 32px;\n",
              "    }\n",
              "\n",
              "    .colab-df-convert:hover {\n",
              "      background-color: #E2EBFA;\n",
              "      box-shadow: 0px 1px 2px rgba(60, 64, 67, 0.3), 0px 1px 3px 1px rgba(60, 64, 67, 0.15);\n",
              "      fill: #174EA6;\n",
              "    }\n",
              "\n",
              "    [theme=dark] .colab-df-convert {\n",
              "      background-color: #3B4455;\n",
              "      fill: #D2E3FC;\n",
              "    }\n",
              "\n",
              "    [theme=dark] .colab-df-convert:hover {\n",
              "      background-color: #434B5C;\n",
              "      box-shadow: 0px 1px 3px 1px rgba(0, 0, 0, 0.15);\n",
              "      filter: drop-shadow(0px 1px 2px rgba(0, 0, 0, 0.3));\n",
              "      fill: #FFFFFF;\n",
              "    }\n",
              "  </style>\n",
              "\n",
              "      <script>\n",
              "        const buttonEl =\n",
              "          document.querySelector('#df-0e622fcb-f13d-4952-9264-9f879bd6ecda button.colab-df-convert');\n",
              "        buttonEl.style.display =\n",
              "          google.colab.kernel.accessAllowed ? 'block' : 'none';\n",
              "\n",
              "        async function convertToInteractive(key) {\n",
              "          const element = document.querySelector('#df-0e622fcb-f13d-4952-9264-9f879bd6ecda');\n",
              "          const dataTable =\n",
              "            await google.colab.kernel.invokeFunction('convertToInteractive',\n",
              "                                                     [key], {});\n",
              "          if (!dataTable) return;\n",
              "\n",
              "          const docLinkHtml = 'Like what you see? Visit the ' +\n",
              "            '<a target=\"_blank\" href=https://colab.research.google.com/notebooks/data_table.ipynb>data table notebook</a>'\n",
              "            + ' to learn more about interactive tables.';\n",
              "          element.innerHTML = '';\n",
              "          dataTable['output_type'] = 'display_data';\n",
              "          await google.colab.output.renderOutput(dataTable, element);\n",
              "          const docLink = document.createElement('div');\n",
              "          docLink.innerHTML = docLinkHtml;\n",
              "          element.appendChild(docLink);\n",
              "        }\n",
              "      </script>\n",
              "    </div>\n",
              "  </div>\n",
              "  "
            ],
            "text/plain": [
              "                           Email  ... Yearly Amount Spent\n",
              "0      mstephenson@fernandez.com  ...          587.951054\n",
              "1              hduke@hotmail.com  ...          392.204933\n",
              "2               pallen@yahoo.com  ...          487.547505\n",
              "3        riverarebecca@gmail.com  ...          581.852344\n",
              "4  mstephens@davidson-herman.com  ...          599.406092\n",
              "\n",
              "[5 rows x 8 columns]"
            ]
          },
          "metadata": {},
          "execution_count": 4
        }
      ]
    },
    {
      "cell_type": "code",
      "source": [
        "df.columns"
      ],
      "metadata": {
        "colab": {
          "base_uri": "https://localhost:8080/"
        },
        "id": "pNXJs6Ue9XRK",
        "outputId": "506ae35c-ad29-4c1d-b2da-2ce213e99c1a"
      },
      "execution_count": null,
      "outputs": [
        {
          "output_type": "execute_result",
          "data": {
            "text/plain": [
              "Index(['Email', 'Address', 'Avatar', 'Avg. Session Length', 'Time on App',\n",
              "       'Time on Website', 'Length of Membership', 'Yearly Amount Spent'],\n",
              "      dtype='object')"
            ]
          },
          "metadata": {},
          "execution_count": 5
        }
      ]
    },
    {
      "cell_type": "code",
      "source": [
        "scaler = MinMaxScaler()"
      ],
      "metadata": {
        "id": "9I-tBDS2-EhD"
      },
      "execution_count": 53,
      "outputs": []
    },
    {
      "cell_type": "markdown",
      "source": [
        "**The variables X and y is created. The y-variable \"Yearly Amount Spent\" is our target feature, is what the model will be predicting on.**"
      ],
      "metadata": {
        "id": "AG3Tlceh-3lz"
      }
    },
    {
      "cell_type": "markdown",
      "source": [
        "Noted that the email, address, and avatar are customer-specific and do not contribute much to the machine learning later. Will drop these features."
      ],
      "metadata": {
        "id": "7OaUcgG6_NYT"
      }
    },
    {
      "cell_type": "code",
      "source": [
        "X = df.drop(columns = ['Yearly Amount Spent','Email', 'Address', 'Avatar'])\n",
        "y = df['Yearly Amount Spent']"
      ],
      "metadata": {
        "id": "qtIm2X5k9TlX"
      },
      "execution_count": 54,
      "outputs": []
    },
    {
      "cell_type": "code",
      "source": [
        "X_train,X_test,y_train,y_test = train_test_split(X,y, test_size= 0.2,random_state = 2)"
      ],
      "metadata": {
        "id": "wB1giv8d81XL"
      },
      "execution_count": 55,
      "outputs": []
    },
    {
      "cell_type": "markdown",
      "source": [
        "The data is scaled. Noted that the fit_transform is not used on X_test to prevent leakage."
      ],
      "metadata": {
        "id": "0QfwLkh8AF5H"
      }
    },
    {
      "cell_type": "code",
      "source": [
        "scaled = scaler.fit_transform(X_train,y_train)\n",
        "scaled_test = scaler.transform(X_test)"
      ],
      "metadata": {
        "id": "r2CPRStL__4T"
      },
      "execution_count": 58,
      "outputs": []
    },
    {
      "cell_type": "code",
      "source": [
        "\n",
        "lr = LinearRegression()"
      ],
      "metadata": {
        "id": "60CyOtCd9SbJ"
      },
      "execution_count": null,
      "outputs": []
    },
    {
      "cell_type": "markdown",
      "source": [
        "# Fitting the data into model"
      ],
      "metadata": {
        "id": "6dYGQMd2ALuj"
      }
    },
    {
      "cell_type": "code",
      "source": [
        "lr.fit(X_train,y_train)"
      ],
      "metadata": {
        "colab": {
          "base_uri": "https://localhost:8080/"
        },
        "id": "CqtWpVJp9qu5",
        "outputId": "90e63795-08e8-419d-f9a4-35e0d121f5c4"
      },
      "execution_count": 59,
      "outputs": [
        {
          "output_type": "execute_result",
          "data": {
            "text/plain": [
              "LinearRegression()"
            ]
          },
          "metadata": {},
          "execution_count": 59
        }
      ]
    },
    {
      "cell_type": "code",
      "source": [
        "y_pred = lr.predict(X_test)\n"
      ],
      "metadata": {
        "id": "u8O_e-jE9vpe"
      },
      "execution_count": null,
      "outputs": []
    },
    {
      "cell_type": "code",
      "source": [
        "\n",
        "\n",
        "\n",
        "\n",
        "mean_absolute_error(y_test,y_pred)"
      ],
      "metadata": {
        "colab": {
          "base_uri": "https://localhost:8080/"
        },
        "id": "20BIYCYU-IFC",
        "outputId": "3326c902-8469-4bf5-af4e-0da8790f4bd2"
      },
      "execution_count": null,
      "outputs": [
        {
          "output_type": "execute_result",
          "data": {
            "text/plain": [
              "7.182689233710765"
            ]
          },
          "metadata": {},
          "execution_count": 32
        }
      ]
    },
    {
      "cell_type": "code",
      "source": [
        "print(\"Accuracy of training dataset:\",lr.score(X_train,y_train))\n",
        "print(\"Accuracy of test dataset:\",lr.score(X_test,y_test))"
      ],
      "metadata": {
        "id": "3_FHpRMp-oAk",
        "colab": {
          "base_uri": "https://localhost:8080/"
        },
        "outputId": "5ecab7ee-d6fd-49cd-d8d4-d3cbf32e3ff4"
      },
      "execution_count": null,
      "outputs": [
        {
          "output_type": "stream",
          "name": "stdout",
          "text": [
            "Accuracy of training dataset: 0.9832679605683918\n",
            "Accuracy of test dataset: 0.9878559970002221\n"
          ]
        }
      ]
    },
    {
      "cell_type": "markdown",
      "source": [
        "The model's prediction power is visualized in the scatterplot below. It has an apparent linear relation with very little noise."
      ],
      "metadata": {
        "id": "XJQc8Ji8AYOL"
      }
    },
    {
      "cell_type": "code",
      "source": [
        "sns.scatterplot(x=y_test, y=y_pred)"
      ],
      "metadata": {
        "id": "ekGtI2P8-1MS",
        "colab": {
          "base_uri": "https://localhost:8080/",
          "height": 296
        },
        "outputId": "bc7feb21-1136-4dc4-c27d-359848c96173"
      },
      "execution_count": null,
      "outputs": [
        {
          "output_type": "execute_result",
          "data": {
            "text/plain": [
              "<matplotlib.axes._subplots.AxesSubplot at 0x7fb68dea2450>"
            ]
          },
          "metadata": {},
          "execution_count": 37
        },
        {
          "output_type": "display_data",
          "data": {
            "image/png": "[encoded data removed]",
            "text/plain": [
              "<Figure size 432x288 with 1 Axes>"
            ]
          },
          "metadata": {
            "needs_background": "light"
          }
        }
      ]
    },
    {
      "cell_type": "markdown",
      "source": [
        "# Evaluating the model using the metrics from sklearn library."
      ],
      "metadata": {
        "id": "tDO2oHMsAjFh"
      }
    },
    {
      "cell_type": "code",
      "source": [
        "print('MAE : ',metrics.mean_absolute_error(y_test,y_pred))\n",
        "print('MSE : ',metrics.mean_squared_error(y_test,y_pred))\n",
        "print('RMSE : ',np.sqrt(metrics.mean_squared_error(y_test,y_pred)))"
      ],
      "metadata": {
        "colab": {
          "base_uri": "https://localhost:8080/"
        },
        "id": "JpYWj91RxSsy",
        "outputId": "43eda864-7c30-4273-9c6c-465787ee0ac9"
      },
      "execution_count": null,
      "outputs": [
        {
          "output_type": "stream",
          "name": "stdout",
          "text": [
            "MAE :  7.182689233710765\n",
            "MSE :  81.22618909322294\n",
            "RMSE :  9.012557300412738\n"
          ]
        }
      ]
    },
    {
      "cell_type": "code",
      "source": [
        "#metrics.explained_varience_score(y_test,y_pred)\n",
        "metrics.explained_variance_score(y_test, y_pred)"
      ],
      "metadata": {
        "colab": {
          "base_uri": "https://localhost:8080/",
          "height": 0
        },
        "id": "L1L2TNenx-TR",
        "outputId": "889787c8-fb24-426b-cf83-3b3d9dbea7e7"
      },
      "execution_count": 48,
      "outputs": [
        {
          "output_type": "execute_result",
          "data": {
            "text/plain": [
              "0.9878560133378431"
            ]
          },
          "metadata": {},
          "execution_count": 48
        }
      ]
    },
    {
      "cell_type": "code",
      "source": [
        "model_coef = pd.DataFrame(lr.coef_,X.columns,columns =[\"Coefficient\"])"
      ],
      "metadata": {
        "id": "fkaOefUm13jE"
      },
      "execution_count": 50,
      "outputs": []
    },
    {
      "cell_type": "code",
      "source": [
        "model_coef"
      ],
      "metadata": {
        "id": "juNUfX1vzmB8",
        "colab": {
          "base_uri": "https://localhost:8080/",
          "height": 170
        },
        "outputId": "9b651f07-8e34-46bd-8108-7a1e6ff08bda"
      },
      "execution_count": 51,
      "outputs": [
        {
          "output_type": "execute_result",
          "data": {
            "text/html": [
              "\n",
              "  <div id=\"df-690ef6b6-f776-4d53-9674-0a49fac659fb\">\n",
              "    <div class=\"colab-df-container\">\n",
              "      <div>\n",
              "<style scoped>\n",
              "    .dataframe tbody tr th:only-of-type {\n",
              "        vertical-align: middle;\n",
              "    }\n",
              "\n",
              "    .dataframe tbody tr th {\n",
              "        vertical-align: top;\n",
              "    }\n",
              "\n",
              "    .dataframe thead th {\n",
              "        text-align: right;\n",
              "    }\n",
              "</style>\n",
              "<table border=\"1\" class=\"dataframe\">\n",
              "  <thead>\n",
              "    <tr style=\"text-align: right;\">\n",
              "      <th></th>\n",
              "      <th>Coefficient</th>\n",
              "    </tr>\n",
              "  </thead>\n",
              "  <tbody>\n",
              "    <tr>\n",
              "      <th>Avg. Session Length</th>\n",
              "      <td>25.723477</td>\n",
              "    </tr>\n",
              "    <tr>\n",
              "      <th>Time on App</th>\n",
              "      <td>38.895700</td>\n",
              "    </tr>\n",
              "    <tr>\n",
              "      <th>Time on Website</th>\n",
              "      <td>0.496052</td>\n",
              "    </tr>\n",
              "    <tr>\n",
              "      <th>Length of Membership</th>\n",
              "      <td>61.438644</td>\n",
              "    </tr>\n",
              "  </tbody>\n",
              "</table>\n",
              "</div>\n",
              "      <button class=\"colab-df-convert\" onclick=\"convertToInteractive('df-690ef6b6-f776-4d53-9674-0a49fac659fb')\"\n",
              "              title=\"Convert this dataframe to an interactive table.\"\n",
              "              style=\"display:none;\">\n",
              "        \n",
              "  <svg xmlns=\"http://www.w3.org/2000/svg\" height=\"24px\"viewBox=\"0 0 24 24\"\n",
              "       width=\"24px\">\n",
              "    <path d=\"M0 0h24v24H0V0z\" fill=\"none\"/>\n",
              "    <path d=\"M18.56 5.44l.94 2.06.94-2.06 2.06-.94-2.06-.94-.94-2.06-.94 2.06-2.06.94zm-11 1L8.5 8.5l.94-2.06 2.06-.94-2.06-.94L8.5 2.5l-.94 2.06-2.06.94zm10 10l.94 2.06.94-2.06 2.06-.94-2.06-.94-.94-2.06-.94 2.06-2.06.94z\"/><path d=\"M17.41 7.96l-1.37-1.37c-.4-.4-.92-.59-1.43-.59-.52 0-1.04.2-1.43.59L10.3 9.45l-7.72 7.72c-.78.78-.78 2.05 0 2.83L4 21.41c.39.39.9.59 1.41.59.51 0 1.02-.2 1.41-.59l7.78-7.78 2.81-2.81c.8-.78.8-2.07 0-2.86zM5.41 20L4 18.59l7.72-7.72 1.47 1.35L5.41 20z\"/>\n",
              "  </svg>\n",
              "      </button>\n",
              "      \n",
              "  <style>\n",
              "    .colab-df-container {\n",
              "      display:flex;\n",
              "      flex-wrap:wrap;\n",
              "      gap: 12px;\n",
              "    }\n",
              "\n",
              "    .colab-df-convert {\n",
              "      background-color: #E8F0FE;\n",
              "      border: none;\n",
              "      border-radius: 50%;\n",
              "      cursor: pointer;\n",
              "      display: none;\n",
              "      fill: #1967D2;\n",
              "      height: 32px;\n",
              "      padding: 0 0 0 0;\n",
              "      width: 32px;\n",
              "    }\n",
              "\n",
              "    .colab-df-convert:hover {\n",
              "      background-color: #E2EBFA;\n",
              "      box-shadow: 0px 1px 2px rgba(60, 64, 67, 0.3), 0px 1px 3px 1px rgba(60, 64, 67, 0.15);\n",
              "      fill: #174EA6;\n",
              "    }\n",
              "\n",
              "    [theme=dark] .colab-df-convert {\n",
              "      background-color: #3B4455;\n",
              "      fill: #D2E3FC;\n",
              "    }\n",
              "\n",
              "    [theme=dark] .colab-df-convert:hover {\n",
              "      background-color: #434B5C;\n",
              "      box-shadow: 0px 1px 3px 1px rgba(0, 0, 0, 0.15);\n",
              "      filter: drop-shadow(0px 1px 2px rgba(0, 0, 0, 0.3));\n",
              "      fill: #FFFFFF;\n",
              "    }\n",
              "  </style>\n",
              "\n",
              "      <script>\n",
              "        const buttonEl =\n",
              "          document.querySelector('#df-690ef6b6-f776-4d53-9674-0a49fac659fb button.colab-df-convert');\n",
              "        buttonEl.style.display =\n",
              "          google.colab.kernel.accessAllowed ? 'block' : 'none';\n",
              "\n",
              "        async function convertToInteractive(key) {\n",
              "          const element = document.querySelector('#df-690ef6b6-f776-4d53-9674-0a49fac659fb');\n",
              "          const dataTable =\n",
              "            await google.colab.kernel.invokeFunction('convertToInteractive',\n",
              "                                                     [key], {});\n",
              "          if (!dataTable) return;\n",
              "\n",
              "          const docLinkHtml = 'Like what you see? Visit the ' +\n",
              "            '<a target=\"_blank\" href=https://colab.research.google.com/notebooks/data_table.ipynb>data table notebook</a>'\n",
              "            + ' to learn more about interactive tables.';\n",
              "          element.innerHTML = '';\n",
              "          dataTable['output_type'] = 'display_data';\n",
              "          await google.colab.output.renderOutput(dataTable, element);\n",
              "          const docLink = document.createElement('div');\n",
              "          docLink.innerHTML = docLinkHtml;\n",
              "          element.appendChild(docLink);\n",
              "        }\n",
              "      </script>\n",
              "    </div>\n",
              "  </div>\n",
              "  "
            ],
            "text/plain": [
              "                      Coefficient\n",
              "Avg. Session Length     25.723477\n",
              "Time on App             38.895700\n",
              "Time on Website          0.496052\n",
              "Length of Membership    61.438644"
            ]
          },
          "metadata": {},
          "execution_count": 51
        }
      ]
    },
    {
      "cell_type": "markdown",
      "source": [
        "# Conclusion:\n"
      ],
      "metadata": {
        "id": "i2XQu02oBlED"
      }
    },
    {
      "cell_type": "markdown",
      "source": [
        "**From this project this concludes: \n",
        "1.the company should allocate more resourses on app**\n",
        " **2. yearly amount spent will be incresed by $61.43 for every 1 unit increase in Length of Membership**"
      ],
      "metadata": {
        "id": "Ug5uyl0R3YZy"
      }
    },
    {
      "cell_type": "code",
      "source": [
        ""
      ],
      "metadata": {
        "id": "VOpnblNl3ZP6"
      },
      "execution_count": null,
      "outputs": []
    }
  ]
}